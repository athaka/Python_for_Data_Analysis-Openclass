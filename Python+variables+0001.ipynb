{
 "cells": [
  {
   "cell_type": "markdown",
   "id": "cf0c32e4-a8bf-4f0d-8d11-1d6cac249e15",
   "metadata": {
    "jp-MarkdownHeadingCollapsed": true
   },
   "source": [
    "# My Python Science Journey Starts Here\n",
    "---\n",
    "\n",
    "```Hello, world! ```"
   ]
  },
  {
   "cell_type": "code",
   "execution_count": 1,
   "id": "0287e460-9612-4d74-a540-191623c29626",
   "metadata": {},
   "outputs": [
    {
     "name": "stdout",
     "output_type": "stream",
     "text": [
      "Hello World!\n"
     ]
    }
   ],
   "source": [
    "print('Hello World!')"
   ]
  },
  {
   "cell_type": "code",
   "execution_count": 2,
   "id": "13840355-f52c-43d6-a610-be67e90bcf63",
   "metadata": {},
   "outputs": [
    {
     "name": "stdout",
     "output_type": "stream",
     "text": [
      "Hello World!\n"
     ]
    }
   ],
   "source": [
    "print (\"Hello World!\")"
   ]
  },
  {
   "cell_type": "code",
   "execution_count": 3,
   "id": "d1b1f344-2ccb-456c-9124-ae6e36d65203",
   "metadata": {},
   "outputs": [
    {
     "name": "stdout",
     "output_type": "stream",
     "text": [
      "Hello World!\n"
     ]
    }
   ],
   "source": [
    "print(\"Hello World!\")"
   ]
  },
  {
   "cell_type": "code",
   "execution_count": 4,
   "id": "418379ef-88a3-4e47-9b68-bff9ccca4e59",
   "metadata": {},
   "outputs": [
    {
     "name": "stdout",
     "output_type": "stream",
     "text": [
      "Hello, World!\n"
     ]
    }
   ],
   "source": [
    "print(\"Hello, World!\")"
   ]
  },
  {
   "cell_type": "code",
   "execution_count": 5,
   "id": "4974ffb1-a5c7-44c0-94a5-3952e4d7462b",
   "metadata": {},
   "outputs": [
    {
     "name": "stdout",
     "output_type": "stream",
     "text": [
      "Hello, world!\n"
     ]
    }
   ],
   "source": [
    "print(\"Hello, world!\")"
   ]
  },
  {
   "cell_type": "markdown",
   "id": "97a62486-fb89-4b14-8720-d60f36731cb4",
   "metadata": {
    "jp-MarkdownHeadingCollapsed": true
   },
   "source": [
    "# Some Markdown Syntax"
   ]
  },
  {
   "cell_type": "markdown",
   "id": "d109c383-aceb-46dc-8be6-b98ab3a056b5",
   "metadata": {
    "jp-MarkdownHeadingCollapsed": true
   },
   "source": [
    "For a list of major [Markdown][] syntax.\n",
    "\n",
    "[Markdown]: https://medium.com/analytics-vidhya/the-ultimate-markdown-guide-for-jupyter-notebook-d5e5abf728fd\n",
    "\n",
    "## Heading 2\n",
    "---\n",
    "This is [a reference][]\n",
    "\n",
    "[a reference]: https://en.wikipedia.org \"Wikipedia\"\n",
    "\n",
    "<a href=\"https://openai.com\" target=\"_blank\">OpenAI</a>\n",
    "\n",
    "[OpenAI][1] your AI choice! [Grok][2] on twitter/X is also good\n",
    "\n",
    "[1]: https://openai.com\n",
    "\n",
    "[2]: https://x.com/i/grok\n",
    "\n"
   ]
  },
  {
   "cell_type": "markdown",
   "id": "0568d85e-e24e-4f64-8a87-688fc7e40c2c",
   "metadata": {},
   "source": [
    "# Dealinhg With Variables"
   ]
  },
  {
   "cell_type": "code",
   "execution_count": 6,
   "id": "0bf47cb2-8b97-4794-bd12-1504290e4212",
   "metadata": {},
   "outputs": [],
   "source": [
    "checkingAccount = 500\n",
    "savingsAccount = 1000"
   ]
  },
  {
   "cell_type": "code",
   "execution_count": 7,
   "id": "c2b9d47d-34d4-4d7c-9386-92a96b7ad516",
   "metadata": {
    "scrolled": true
   },
   "outputs": [],
   "source": [
    "# add 1000 to savings\n",
    "savingsAccount = savingsAccount + 1000\n",
    "\n",
    "# remove 50 from checkingAccount\n",
    "checkingAccount = checkingAccount - 50\n",
    "\n",
    "#calculate number of days until checking account is 5000\n",
    "number_DaysSave = (5000 - checkingAccount)/50\n",
    "\n",
    "#pdate checking account again after daily gains/losses\n",
    "checkingAccount = checkingAccount + (30 - 10) * 7\n",
    "\n"
   ]
  },
  {
   "cell_type": "code",
   "execution_count": 8,
   "id": "48c3a208-1d1a-4297-995a-486fadfe2f0e",
   "metadata": {},
   "outputs": [
    {
     "name": "stdout",
     "output_type": "stream",
     "text": [
      "91.0\n"
     ]
    }
   ],
   "source": [
    "print(number_DaysSave)"
   ]
  },
  {
   "cell_type": "code",
   "execution_count": 9,
   "id": "b7c39af9-8f1e-48b8-90c1-e934c718504c",
   "metadata": {},
   "outputs": [
    {
     "name": "stdout",
     "output_type": "stream",
     "text": [
      "590\n"
     ]
    }
   ],
   "source": [
    "print(checkingAccount)"
   ]
  },
  {
   "cell_type": "code",
   "execution_count": 12,
   "id": "e6dfc9ca-2a01-425d-92c9-bdeed3b4010c",
   "metadata": {},
   "outputs": [
    {
     "name": "stdout",
     "output_type": "stream",
     "text": [
      "2000\n"
     ]
    }
   ],
   "source": [
    "print(savingsAccount)"
   ]
  },
  {
   "cell_type": "code",
   "execution_count": 13,
   "id": "93b545e2-8fbd-4b62-be2c-c22c11e62237",
   "metadata": {},
   "outputs": [
    {
     "name": "stdout",
     "output_type": "stream",
     "text": [
      "2100\n"
     ]
    }
   ],
   "source": [
    "savingsAccount += 100\n",
    "print(savingsAccount)"
   ]
  },
  {
   "cell_type": "code",
   "execution_count": 14,
   "id": "6b29c494-d264-499f-8d9f-586c5c71e3fd",
   "metadata": {},
   "outputs": [
    {
     "name": "stdout",
     "output_type": "stream",
     "text": [
      "3\n"
     ]
    }
   ],
   "source": [
    "savingsAccount %= 9\n",
    "print(savingsAccount)"
   ]
  },
  {
   "cell_type": "code",
   "execution_count": 15,
   "id": "16a788d7-2cbd-4bad-8743-bac1d41c5f30",
   "metadata": {},
   "outputs": [],
   "source": [
    "firstName = \"Franklin\"\n",
    "interestRate = 1.7\n",
    "address = \"15 19 Bloomsbury Way, Holborn, London, WC1A 2TH\""
   ]
  },
  {
   "cell_type": "markdown",
   "id": "6206f361-6a47-474b-a83d-75bcbd09d4cb",
   "metadata": {},
   "source": [
    "# Recap\n",
    "---\n",
    "\n",
    "In this chapter, you have learned the basics about variables:\n",
    "\n",
    "- A **variable** is made up of two parts: its **name** and its **value**.\n",
    "- Assigning a value to a variable is called an **assignment**.\n",
    "- A variable must be **initializes** before it can be used\n",
    "- The **value** of a variable can be **changed**.\n",
    "- The **type** of a variable depends on its **value**.\n",
    "- The names of your variables should be **clear**, **explicit**, and should follow a **typographic convention**\n",
    "\n",
    "**int**, **float**, and **strings**\n",
    "\n",
    "## Arithmetic Operators\n",
    "\n",
    "- `+` : addition\n",
    "- `-` : subtraction\n",
    "- `*` : multiplication\n",
    "- `/` : division\n",
    "- `%` modulo : returns the remainder of the euclidean division\n",
    "- `**` power : raises a number to a certain power\n",
    "- `//` integer division: calculates the integer division (rounded down)\n",
    "\n",
    "### simplified operators!\n",
    "\n",
    "rather than using the expression  `savingsAccount = savingsAccount + 100`  to add $100, use combined arithmetic/assignment operator `+=` example: `savingsAccount += 100`\n"
   ]
  },
  {
   "cell_type": "code",
   "execution_count": null,
   "id": "19d0628e-5fdb-4098-a67a-3695cfb73916",
   "metadata": {},
   "outputs": [],
   "source": []
  }
 ],
 "metadata": {
  "kernelspec": {
   "display_name": "Python 3 (ipykernel)",
   "language": "python",
   "name": "python3"
  },
  "language_info": {
   "codemirror_mode": {
    "name": "ipython",
    "version": 3
   },
   "file_extension": ".py",
   "mimetype": "text/x-python",
   "name": "python",
   "nbconvert_exporter": "python",
   "pygments_lexer": "ipython3",
   "version": "3.8.10"
  }
 },
 "nbformat": 4,
 "nbformat_minor": 5
}
